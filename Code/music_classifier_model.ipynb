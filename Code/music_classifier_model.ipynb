{
  "nbformat": 4,
  "nbformat_minor": 0,
  "metadata": {
    "colab": {
      "provenance": []
    },
    "kernelspec": {
      "name": "python3",
      "display_name": "Python 3"
    },
    "language_info": {
      "name": "python"
    },
    "gpuClass": "standard"
  },
  "cells": [
    {
      "cell_type": "code",
      "execution_count": null,
      "metadata": {
        "id": "oHjXK00jZLez"
      },
      "outputs": [],
      "source": [
        "import json\n",
        "import numpy as np\n",
        "from sklearn.model_selection import train_test_split\n",
        "import tensorflow.keras as keras\n",
        "import tensorflow as tf\n",
        "import matplotlib.pyplot as plt\n",
        "import random\n",
        "import librosa\n",
        "import math"
      ]
    },
    {
      "cell_type": "code",
      "source": [
        "# path to json\n",
        "DATA_PATH = \"/content/drive/MyDrive/music_data.json\""
      ],
      "metadata": {
        "id": "xdtr1m8Qbqna"
      },
      "execution_count": null,
      "outputs": []
    },
    {
      "cell_type": "code",
      "source": [
        "def load_data(data_path):\n",
        "\n",
        "    with open(data_path, \"r\") as f:\n",
        "        data = json.load(f)\n",
        "\n",
        "    # convert lists to numpy arrays\n",
        "    X = np.array(data[\"mfcc\"])\n",
        "    y = np.array(data[\"labels\"])\n",
        "    \n",
        "    return  X, y"
      ],
      "metadata": {
        "id": "yZeVPXf3b8XT"
      },
      "execution_count": null,
      "outputs": []
    },
    {
      "cell_type": "code",
      "source": [
        "X,y=load_data(DATA_PATH)"
      ],
      "metadata": {
        "id": "mq6TwVhkcOhE"
      },
      "execution_count": null,
      "outputs": []
    },
    {
      "cell_type": "code",
      "source": [
        "X.shape"
      ],
      "metadata": {
        "colab": {
          "base_uri": "https://localhost:8080/"
        },
        "id": "gIskHXxAcSOd",
        "outputId": "85803923-7432-4975-bb97-bb8795f44faf"
      },
      "execution_count": null,
      "outputs": [
        {
          "output_type": "execute_result",
          "data": {
            "text/plain": [
              "(9986, 130, 13)"
            ]
          },
          "metadata": {},
          "execution_count": 5
        }
      ]
    },
    {
      "cell_type": "code",
      "source": [
        "y.shape"
      ],
      "metadata": {
        "colab": {
          "base_uri": "https://localhost:8080/"
        },
        "id": "HKu2VND5cnbo",
        "outputId": "4341183a-31ef-4b18-f9e3-34ff424ac38a"
      },
      "execution_count": null,
      "outputs": [
        {
          "output_type": "execute_result",
          "data": {
            "text/plain": [
              "(9986,)"
            ]
          },
          "metadata": {},
          "execution_count": 6
        }
      ]
    },
    {
      "cell_type": "code",
      "source": [
        "X_train, X_test, y_train, y_test = train_test_split(X, y, test_size=0.3)"
      ],
      "metadata": {
        "id": "xIMjNUyJcqlo"
      },
      "execution_count": null,
      "outputs": []
    },
    {
      "cell_type": "markdown",
      "source": [
        "Artificial Neural Network"
      ],
      "metadata": {
        "id": "s3FS7G4gdg6C"
      }
    },
    {
      "cell_type": "code",
      "source": [
        "# build network topology\n",
        "model = keras.Sequential([\n",
        "\n",
        "    # input layer\n",
        "    keras.layers.Flatten(input_shape=(X.shape[1], X.shape[2])),\n",
        "\n",
        "    # 1st dense layer\n",
        "    keras.layers.Dense(512, activation='relu'),\n",
        "\n",
        "    # 2nd dense layer\n",
        "    keras.layers.Dense(256, activation='relu'),\n",
        "\n",
        "    # 3rd dense layer\n",
        "    keras.layers.Dense(64, activation='relu'),\n",
        "\n",
        "    # output layer\n",
        "    keras.layers.Dense(10, activation='softmax')\n",
        "])"
      ],
      "metadata": {
        "id": "UXQbp4VFc-2a"
      },
      "execution_count": null,
      "outputs": []
    },
    {
      "cell_type": "code",
      "source": [
        "# compile model\n",
        "optimiser = keras.optimizers.Adam(learning_rate=0.0001)\n",
        "model.compile(optimizer=optimiser,\n",
        "              loss='sparse_categorical_crossentropy',\n",
        "              metrics=['accuracy'])"
      ],
      "metadata": {
        "id": "msXZtqtFdxuQ"
      },
      "execution_count": null,
      "outputs": []
    },
    {
      "cell_type": "code",
      "source": [
        "model.summary()"
      ],
      "metadata": {
        "colab": {
          "base_uri": "https://localhost:8080/"
        },
        "id": "d3M_DbSYd6RR",
        "outputId": "4ec85568-1f05-4bae-988e-416a61c35bfe"
      },
      "execution_count": null,
      "outputs": [
        {
          "output_type": "stream",
          "name": "stdout",
          "text": [
            "Model: \"sequential\"\n",
            "_________________________________________________________________\n",
            " Layer (type)                Output Shape              Param #   \n",
            "=================================================================\n",
            " flatten (Flatten)           (None, 1690)              0         \n",
            "                                                                 \n",
            " dense (Dense)               (None, 512)               865792    \n",
            "                                                                 \n",
            " dense_1 (Dense)             (None, 256)               131328    \n",
            "                                                                 \n",
            " dense_2 (Dense)             (None, 64)                16448     \n",
            "                                                                 \n",
            " dense_3 (Dense)             (None, 10)                650       \n",
            "                                                                 \n",
            "=================================================================\n",
            "Total params: 1,014,218\n",
            "Trainable params: 1,014,218\n",
            "Non-trainable params: 0\n",
            "_________________________________________________________________\n"
          ]
        }
      ]
    },
    {
      "cell_type": "code",
      "source": [
        "# train model\n",
        "history = model.fit(X_train, y_train, validation_data=(X_test, y_test), batch_size=32, epochs=50)"
      ],
      "metadata": {
        "colab": {
          "base_uri": "https://localhost:8080/"
        },
        "id": "8wWD7rm5fYrT",
        "outputId": "2e969905-ef88-49c3-e54f-25c34f679395"
      },
      "execution_count": null,
      "outputs": [
        {
          "output_type": "stream",
          "name": "stdout",
          "text": [
            "Epoch 1/50\n",
            "219/219 [==============================] - 10s 26ms/step - loss: 6.9348 - accuracy: 0.3166 - val_loss: 3.8076 - val_accuracy: 0.3551\n",
            "Epoch 2/50\n",
            "219/219 [==============================] - 4s 19ms/step - loss: 2.7357 - accuracy: 0.4392 - val_loss: 3.0991 - val_accuracy: 0.4105\n",
            "Epoch 3/50\n",
            "219/219 [==============================] - 4s 20ms/step - loss: 2.0557 - accuracy: 0.4930 - val_loss: 2.5704 - val_accuracy: 0.4266\n",
            "Epoch 4/50\n",
            "219/219 [==============================] - 5s 25ms/step - loss: 1.5959 - accuracy: 0.5551 - val_loss: 2.6391 - val_accuracy: 0.4139\n",
            "Epoch 5/50\n",
            "219/219 [==============================] - 4s 18ms/step - loss: 1.3486 - accuracy: 0.5979 - val_loss: 2.4520 - val_accuracy: 0.4566\n",
            "Epoch 6/50\n",
            "219/219 [==============================] - 4s 19ms/step - loss: 1.1302 - accuracy: 0.6403 - val_loss: 2.1764 - val_accuracy: 0.4700\n",
            "Epoch 7/50\n",
            "219/219 [==============================] - 6s 28ms/step - loss: 0.9515 - accuracy: 0.6901 - val_loss: 2.0679 - val_accuracy: 0.4927\n",
            "Epoch 8/50\n",
            "219/219 [==============================] - 4s 18ms/step - loss: 0.8388 - accuracy: 0.7205 - val_loss: 2.1433 - val_accuracy: 0.4830\n",
            "Epoch 9/50\n",
            "219/219 [==============================] - 4s 19ms/step - loss: 0.7564 - accuracy: 0.7392 - val_loss: 2.2225 - val_accuracy: 0.4910\n",
            "Epoch 10/50\n",
            "219/219 [==============================] - 6s 26ms/step - loss: 0.6248 - accuracy: 0.7874 - val_loss: 2.2072 - val_accuracy: 0.5007\n",
            "Epoch 11/50\n",
            "219/219 [==============================] - 5s 21ms/step - loss: 0.5671 - accuracy: 0.8073 - val_loss: 2.0544 - val_accuracy: 0.5130\n",
            "Epoch 12/50\n",
            "219/219 [==============================] - 4s 19ms/step - loss: 0.5196 - accuracy: 0.8192 - val_loss: 2.1775 - val_accuracy: 0.5120\n",
            "Epoch 13/50\n",
            "219/219 [==============================] - 5s 24ms/step - loss: 0.4796 - accuracy: 0.8343 - val_loss: 2.2429 - val_accuracy: 0.4856\n",
            "Epoch 14/50\n",
            "219/219 [==============================] - 5s 22ms/step - loss: 0.4121 - accuracy: 0.8571 - val_loss: 2.0059 - val_accuracy: 0.5237\n",
            "Epoch 15/50\n",
            "219/219 [==============================] - 4s 19ms/step - loss: 0.3564 - accuracy: 0.8717 - val_loss: 2.2636 - val_accuracy: 0.5080\n",
            "Epoch 16/50\n",
            "219/219 [==============================] - 4s 19ms/step - loss: 0.3128 - accuracy: 0.8921 - val_loss: 2.1078 - val_accuracy: 0.5417\n",
            "Epoch 17/50\n",
            "219/219 [==============================] - 6s 28ms/step - loss: 0.2966 - accuracy: 0.9011 - val_loss: 2.2556 - val_accuracy: 0.5130\n",
            "Epoch 18/50\n",
            "219/219 [==============================] - 4s 19ms/step - loss: 0.3477 - accuracy: 0.8787 - val_loss: 2.3139 - val_accuracy: 0.5274\n",
            "Epoch 19/50\n",
            "219/219 [==============================] - 4s 20ms/step - loss: 0.2658 - accuracy: 0.9082 - val_loss: 2.2113 - val_accuracy: 0.5444\n",
            "Epoch 20/50\n",
            "219/219 [==============================] - 5s 25ms/step - loss: 0.2117 - accuracy: 0.9305 - val_loss: 2.1984 - val_accuracy: 0.5387\n",
            "Epoch 21/50\n",
            "219/219 [==============================] - 5s 21ms/step - loss: 0.1938 - accuracy: 0.9369 - val_loss: 2.1882 - val_accuracy: 0.5524\n",
            "Epoch 22/50\n",
            "219/219 [==============================] - 4s 18ms/step - loss: 0.1669 - accuracy: 0.9468 - val_loss: 2.2902 - val_accuracy: 0.5454\n",
            "Epoch 23/50\n",
            "219/219 [==============================] - 5s 24ms/step - loss: 0.2621 - accuracy: 0.9114 - val_loss: 2.3246 - val_accuracy: 0.5354\n",
            "Epoch 24/50\n",
            "219/219 [==============================] - 5s 22ms/step - loss: 0.1664 - accuracy: 0.9466 - val_loss: 2.3283 - val_accuracy: 0.5541\n",
            "Epoch 25/50\n",
            "219/219 [==============================] - 4s 19ms/step - loss: 0.2014 - accuracy: 0.9320 - val_loss: 2.5387 - val_accuracy: 0.5424\n",
            "Epoch 26/50\n",
            "219/219 [==============================] - 4s 19ms/step - loss: 0.1984 - accuracy: 0.9346 - val_loss: 2.2352 - val_accuracy: 0.5547\n",
            "Epoch 27/50\n",
            "219/219 [==============================] - 6s 26ms/step - loss: 0.1802 - accuracy: 0.9403 - val_loss: 2.3593 - val_accuracy: 0.5577\n",
            "Epoch 28/50\n",
            "219/219 [==============================] - 4s 19ms/step - loss: 0.1354 - accuracy: 0.9544 - val_loss: 2.5057 - val_accuracy: 0.5521\n",
            "Epoch 29/50\n",
            "219/219 [==============================] - 4s 19ms/step - loss: 0.0919 - accuracy: 0.9702 - val_loss: 2.9228 - val_accuracy: 0.5037\n",
            "Epoch 30/50\n",
            "219/219 [==============================] - 5s 24ms/step - loss: 0.1714 - accuracy: 0.9465 - val_loss: 2.5551 - val_accuracy: 0.5457\n",
            "Epoch 31/50\n",
            "219/219 [==============================] - 5s 21ms/step - loss: 0.2177 - accuracy: 0.9266 - val_loss: 2.5363 - val_accuracy: 0.5601\n",
            "Epoch 32/50\n",
            "219/219 [==============================] - 4s 20ms/step - loss: 0.2026 - accuracy: 0.9296 - val_loss: 2.6916 - val_accuracy: 0.5421\n",
            "Epoch 33/50\n",
            "219/219 [==============================] - 5s 23ms/step - loss: 0.1192 - accuracy: 0.9609 - val_loss: 2.6012 - val_accuracy: 0.5638\n",
            "Epoch 34/50\n",
            "219/219 [==============================] - 5s 24ms/step - loss: 0.0709 - accuracy: 0.9798 - val_loss: 2.3895 - val_accuracy: 0.5751\n",
            "Epoch 35/50\n",
            "219/219 [==============================] - 4s 19ms/step - loss: 0.0519 - accuracy: 0.9850 - val_loss: 2.4382 - val_accuracy: 0.5844\n",
            "Epoch 36/50\n",
            "219/219 [==============================] - 4s 19ms/step - loss: 0.0645 - accuracy: 0.9798 - val_loss: 2.6326 - val_accuracy: 0.5644\n",
            "Epoch 37/50\n",
            "219/219 [==============================] - 6s 26ms/step - loss: 0.3500 - accuracy: 0.8920 - val_loss: 2.7497 - val_accuracy: 0.5561\n",
            "Epoch 38/50\n",
            "219/219 [==============================] - 4s 19ms/step - loss: 0.1618 - accuracy: 0.9455 - val_loss: 2.7915 - val_accuracy: 0.5551\n",
            "Epoch 39/50\n",
            "219/219 [==============================] - 4s 18ms/step - loss: 0.1353 - accuracy: 0.9574 - val_loss: 2.5819 - val_accuracy: 0.5698\n",
            "Epoch 40/50\n",
            "219/219 [==============================] - 5s 23ms/step - loss: 0.0685 - accuracy: 0.9783 - val_loss: 2.5968 - val_accuracy: 0.5818\n",
            "Epoch 41/50\n",
            "219/219 [==============================] - 5s 22ms/step - loss: 0.0382 - accuracy: 0.9896 - val_loss: 2.5844 - val_accuracy: 0.5891\n",
            "Epoch 42/50\n",
            "219/219 [==============================] - 4s 19ms/step - loss: 0.0319 - accuracy: 0.9924 - val_loss: 2.6105 - val_accuracy: 0.5901\n",
            "Epoch 43/50\n",
            "219/219 [==============================] - 4s 18ms/step - loss: 0.0389 - accuracy: 0.9894 - val_loss: 2.6981 - val_accuracy: 0.5804\n",
            "Epoch 44/50\n",
            "219/219 [==============================] - 6s 26ms/step - loss: 0.2862 - accuracy: 0.9140 - val_loss: 3.0287 - val_accuracy: 0.5344\n",
            "Epoch 45/50\n",
            "219/219 [==============================] - 4s 18ms/step - loss: 0.2640 - accuracy: 0.9156 - val_loss: 2.8123 - val_accuracy: 0.5634\n",
            "Epoch 46/50\n",
            "219/219 [==============================] - 4s 18ms/step - loss: 0.1045 - accuracy: 0.9675 - val_loss: 2.5670 - val_accuracy: 0.5941\n",
            "Epoch 47/50\n",
            "219/219 [==============================] - 5s 23ms/step - loss: 0.0336 - accuracy: 0.9906 - val_loss: 2.5842 - val_accuracy: 0.6001\n",
            "Epoch 48/50\n",
            "219/219 [==============================] - 5s 21ms/step - loss: 0.0286 - accuracy: 0.9931 - val_loss: 2.5527 - val_accuracy: 0.6025\n",
            "Epoch 49/50\n",
            "219/219 [==============================] - 4s 19ms/step - loss: 0.0230 - accuracy: 0.9950 - val_loss: 2.6694 - val_accuracy: 0.5945\n",
            "Epoch 50/50\n",
            "219/219 [==============================] - 4s 19ms/step - loss: 0.1355 - accuracy: 0.9579 - val_loss: 2.7172 - val_accuracy: 0.5804\n"
          ]
        }
      ]
    },
    {
      "cell_type": "code",
      "source": [
        "def plot_history(history):\n",
        "\n",
        "    fig, axs = plt.subplots(2)\n",
        "\n",
        "    # create accuracy sublpot\n",
        "    axs[0].plot(history.history[\"accuracy\"], label=\"train accuracy\")\n",
        "    axs[0].plot(history.history[\"val_accuracy\"], label=\"test accuracy\")\n",
        "    axs[0].set_ylabel(\"Accuracy\")\n",
        "    axs[0].legend(loc=\"lower right\")\n",
        "    axs[0].set_title(\"Accuracy eval\")\n",
        "\n",
        "    # create error sublpot\n",
        "    axs[1].plot(history.history[\"loss\"], label=\"train error\")\n",
        "    axs[1].plot(history.history[\"val_loss\"], label=\"test error\")\n",
        "    axs[1].set_ylabel(\"Error\")\n",
        "    axs[1].set_xlabel(\"Epoch\")\n",
        "    axs[1].legend(loc=\"upper right\")\n",
        "    axs[1].set_title(\"Error eval\")\n",
        "    \n",
        "    plt.show()"
      ],
      "metadata": {
        "id": "lv-90T02gHzg"
      },
      "execution_count": null,
      "outputs": []
    },
    {
      "cell_type": "code",
      "source": [
        "plot_history(history)"
      ],
      "metadata": {
        "colab": {
          "base_uri": "https://localhost:8080/",
          "height": 295
        },
        "id": "Mwp0caeE8WTs",
        "outputId": "df1bb3c0-343e-4193-a8f0-ecdfdb207920"
      },
      "execution_count": null,
      "outputs": [
        {
          "output_type": "display_data",
          "data": {
            "text/plain": [
              "<Figure size 432x288 with 2 Axes>"
            ],
            "image/png": "[encoded data removed]"
          },
          "metadata": {
            "needs_background": "light"
          }
        }
      ]
    },
    {
      "cell_type": "code",
      "source": [
        "# build network topology\n",
        "model_regularized = keras.Sequential([\n",
        "\n",
        "    # input layer\n",
        "    keras.layers.Flatten(input_shape=(X.shape[1], X.shape[2])),\n",
        "\n",
        "    # 1st dense layer\n",
        "    keras.layers.Dense(512, activation='relu', kernel_regularizer=keras.regularizers.l2(0.001)),\n",
        "    keras.layers.Dropout(0.3),\n",
        "\n",
        "    # 2nd dense layer\n",
        "    keras.layers.Dense(256, activation='relu', kernel_regularizer=keras.regularizers.l2(0.001)),\n",
        "    keras.layers.Dropout(0.3),\n",
        "\n",
        "    # 3rd dense layer\n",
        "    keras.layers.Dense(64, activation='relu', kernel_regularizer=keras.regularizers.l2(0.001)),\n",
        "    keras.layers.Dropout(0.3),\n",
        "\n",
        "    # output layer\n",
        "    keras.layers.Dense(10, activation='softmax')\n",
        "])"
      ],
      "metadata": {
        "id": "puSt63pF8Y98"
      },
      "execution_count": null,
      "outputs": []
    },
    {
      "cell_type": "code",
      "source": [
        "# compile model\n",
        "optimiser = keras.optimizers.Adam(learning_rate=0.0001)\n",
        "model_regularized.compile(optimizer=optimiser,\n",
        "              loss='sparse_categorical_crossentropy',\n",
        "              metrics=['accuracy'])"
      ],
      "metadata": {
        "id": "nMw1Ff5b8ewd"
      },
      "execution_count": null,
      "outputs": []
    },
    {
      "cell_type": "code",
      "source": [
        "plot_history(history)"
      ],
      "metadata": {
        "colab": {
          "base_uri": "https://localhost:8080/",
          "height": 295
        },
        "id": "hmjO6Ktu8i9W",
        "outputId": "3981cb0e-c3ce-4c59-c628-c2272bd25bd8"
      },
      "execution_count": null,
      "outputs": [
        {
          "output_type": "display_data",
          "data": {
            "text/plain": [
              "<Figure size 432x288 with 2 Axes>"
            ],
            "image/png": "[encoded data removed]"
          },
          "metadata": {
            "needs_background": "light"
          }
        }
      ]
    },
    {
      "cell_type": "markdown",
      "source": [
        "Trying tan x as activation function"
      ],
      "metadata": {
        "id": "iljn4FwZrnBD"
      }
    },
    {
      "cell_type": "code",
      "source": [
        "def custom_tan(x):\n",
        "    # calculate tan(x) using sin(x) and cos(x)\n",
        "    return tf.math.sin(x) / tf.math.cos(x)"
      ],
      "metadata": {
        "id": "nro-X6cisX7U"
      },
      "execution_count": null,
      "outputs": []
    },
    {
      "cell_type": "code",
      "source": [
        "# Register custom activation function\n",
        "keras.utils.get_custom_objects().update({'custom_tan': keras.layers.Activation(custom_tan)})"
      ],
      "metadata": {
        "id": "GIjER6qj0lwd"
      },
      "execution_count": null,
      "outputs": []
    },
    {
      "cell_type": "code",
      "source": [
        "# build network topology\n",
        "model = keras.Sequential([\n",
        "\n",
        "    # input layer\n",
        "    keras.layers.Flatten(input_shape=(X.shape[1], X.shape[2])),\n",
        "\n",
        "    # 1st dense layer\n",
        "    keras.layers.Dense(512, activation='relu'),\n",
        "\n",
        "    # 2nd dense layer\n",
        "    keras.layers.Dense(256, activation='relu'),\n",
        "\n",
        "    # 3rd dense layer\n",
        "    keras.layers.Dense(64, activation='relu'),\n",
        "\n",
        "    # output layer\n",
        "    keras.layers.Dense(10, activation='custom_tan')\n",
        "])"
      ],
      "metadata": {
        "id": "-GiAc_EXrwFM"
      },
      "execution_count": null,
      "outputs": []
    },
    {
      "cell_type": "code",
      "source": [
        "# compile model\n",
        "optimiser = keras.optimizers.Adam(learning_rate=0.0001)\n",
        "model.compile(optimizer=optimiser,\n",
        "              loss='sparse_categorical_crossentropy',\n",
        "              metrics=['accuracy'])"
      ],
      "metadata": {
        "id": "_4bSGNfC0tiE"
      },
      "execution_count": null,
      "outputs": []
    },
    {
      "cell_type": "code",
      "source": [
        "model.summary()"
      ],
      "metadata": {
        "colab": {
          "base_uri": "https://localhost:8080/"
        },
        "id": "RQiSd5J_0twS",
        "outputId": "2148b2dd-4aa1-4e13-c7ee-518cd4df1ed8"
      },
      "execution_count": null,
      "outputs": [
        {
          "output_type": "stream",
          "name": "stdout",
          "text": [
            "Model: \"sequential_2\"\n",
            "_________________________________________________________________\n",
            " Layer (type)                Output Shape              Param #   \n",
            "=================================================================\n",
            " flatten_3 (Flatten)         (None, 1690)              0         \n",
            "                                                                 \n",
            " dense_12 (Dense)            (None, 512)               865792    \n",
            "                                                                 \n",
            " dense_13 (Dense)            (None, 256)               131328    \n",
            "                                                                 \n",
            " dense_14 (Dense)            (None, 64)                16448     \n",
            "                                                                 \n",
            " dense_15 (Dense)            (None, 10)                650       \n",
            "                                                                 \n",
            "=================================================================\n",
            "Total params: 1,014,218\n",
            "Trainable params: 1,014,218\n",
            "Non-trainable params: 0\n",
            "_________________________________________________________________\n"
          ]
        }
      ]
    },
    {
      "cell_type": "code",
      "source": [
        "# train model\n",
        "history = model.fit(X_train, y_train, validation_data=(X_test, y_test), batch_size=32, epochs=50)"
      ],
      "metadata": {
        "colab": {
          "base_uri": "https://localhost:8080/"
        },
        "id": "yIJ5HvJb03sf",
        "outputId": "98344186-350f-450e-f4bb-f993d0b9a28c"
      },
      "execution_count": null,
      "outputs": [
        {
          "output_type": "stream",
          "name": "stdout",
          "text": [
            "Epoch 1/50\n",
            "219/219 [==============================] - 6s 20ms/step - loss: 9.3936 - accuracy: 0.1019 - val_loss: 9.7153 - val_accuracy: 0.0965\n",
            "Epoch 2/50\n",
            "219/219 [==============================] - 4s 18ms/step - loss: 9.4348 - accuracy: 0.0991 - val_loss: 9.5142 - val_accuracy: 0.0958\n",
            "Epoch 3/50\n",
            "219/219 [==============================] - 5s 22ms/step - loss: 9.6217 - accuracy: 0.0944 - val_loss: 9.5269 - val_accuracy: 0.0951\n",
            "Epoch 4/50\n",
            "219/219 [==============================] - 5s 22ms/step - loss: 9.5325 - accuracy: 0.0957 - val_loss: 9.7020 - val_accuracy: 0.1018\n",
            "Epoch 5/50\n",
            "219/219 [==============================] - 4s 19ms/step - loss: 9.6191 - accuracy: 0.0990 - val_loss: 9.5575 - val_accuracy: 0.1095\n",
            "Epoch 6/50\n",
            "219/219 [==============================] - 4s 18ms/step - loss: 9.4628 - accuracy: 0.0979 - val_loss: 9.7606 - val_accuracy: 0.0991\n",
            "Epoch 7/50\n",
            "219/219 [==============================] - 6s 27ms/step - loss: 9.5051 - accuracy: 0.1036 - val_loss: 9.3579 - val_accuracy: 0.1025\n",
            "Epoch 8/50\n",
            "219/219 [==============================] - 4s 18ms/step - loss: 9.6679 - accuracy: 0.0989 - val_loss: 9.5283 - val_accuracy: 0.0991\n",
            "Epoch 9/50\n",
            "219/219 [==============================] - 4s 18ms/step - loss: 9.4943 - accuracy: 0.1036 - val_loss: 9.4721 - val_accuracy: 0.1075\n",
            "Epoch 10/50\n",
            "219/219 [==============================] - 5s 25ms/step - loss: 9.4464 - accuracy: 0.1000 - val_loss: 9.6120 - val_accuracy: 0.0961\n",
            "Epoch 11/50\n",
            "219/219 [==============================] - 4s 20ms/step - loss: 9.5424 - accuracy: 0.0984 - val_loss: 9.3392 - val_accuracy: 0.1071\n",
            "Epoch 12/50\n",
            "219/219 [==============================] - 4s 17ms/step - loss: 9.5135 - accuracy: 0.1007 - val_loss: 9.4356 - val_accuracy: 0.0978\n",
            "Epoch 13/50\n",
            "219/219 [==============================] - 4s 18ms/step - loss: 9.6193 - accuracy: 0.1020 - val_loss: 9.3289 - val_accuracy: 0.0995\n",
            "Epoch 14/50\n",
            "219/219 [==============================] - 5s 24ms/step - loss: 9.5443 - accuracy: 0.0999 - val_loss: 9.5752 - val_accuracy: 0.0928\n",
            "Epoch 15/50\n",
            "219/219 [==============================] - 4s 18ms/step - loss: 9.5736 - accuracy: 0.1010 - val_loss: 9.5677 - val_accuracy: 0.0991\n",
            "Epoch 16/50\n",
            "219/219 [==============================] - 4s 17ms/step - loss: 9.5039 - accuracy: 0.0957 - val_loss: 9.6291 - val_accuracy: 0.0975\n",
            "Epoch 17/50\n",
            "219/219 [==============================] - 5s 22ms/step - loss: 9.5919 - accuracy: 0.1067 - val_loss: 9.5775 - val_accuracy: 0.0978\n",
            "Epoch 18/50\n",
            "219/219 [==============================] - 5s 22ms/step - loss: 9.4828 - accuracy: 0.0954 - val_loss: 9.5847 - val_accuracy: 0.0951\n",
            "Epoch 19/50\n",
            "219/219 [==============================] - 4s 17ms/step - loss: 9.5044 - accuracy: 0.1027 - val_loss: 9.4109 - val_accuracy: 0.1061\n",
            "Epoch 20/50\n",
            "219/219 [==============================] - 4s 17ms/step - loss: 9.6372 - accuracy: 0.0976 - val_loss: 9.7526 - val_accuracy: 0.1011\n",
            "Epoch 21/50\n",
            "219/219 [==============================] - 6s 26ms/step - loss: 9.5291 - accuracy: 0.0989 - val_loss: 9.3410 - val_accuracy: 0.0955\n",
            "Epoch 22/50\n",
            "219/219 [==============================] - 5s 21ms/step - loss: 9.5250 - accuracy: 0.1023 - val_loss: 9.3136 - val_accuracy: 0.1085\n",
            "Epoch 23/50\n",
            "219/219 [==============================] - 4s 19ms/step - loss: 9.4399 - accuracy: 0.1006 - val_loss: 9.6137 - val_accuracy: 0.1018\n",
            "Epoch 24/50\n",
            "219/219 [==============================] - 5s 22ms/step - loss: 9.6086 - accuracy: 0.0984 - val_loss: 9.5506 - val_accuracy: 0.1015\n",
            "Epoch 25/50\n",
            "219/219 [==============================] - 5s 22ms/step - loss: 9.5542 - accuracy: 0.1059 - val_loss: 9.5202 - val_accuracy: 0.0978\n",
            "Epoch 26/50\n",
            "219/219 [==============================] - 4s 20ms/step - loss: 9.5184 - accuracy: 0.0969 - val_loss: 9.6083 - val_accuracy: 0.0951\n",
            "Epoch 27/50\n",
            "219/219 [==============================] - 4s 17ms/step - loss: 9.3944 - accuracy: 0.1080 - val_loss: 9.3273 - val_accuracy: 0.1128\n",
            "Epoch 28/50\n",
            "219/219 [==============================] - 5s 24ms/step - loss: 9.5341 - accuracy: 0.0979 - val_loss: 9.1554 - val_accuracy: 0.1051\n",
            "Epoch 29/50\n",
            "219/219 [==============================] - 4s 20ms/step - loss: 9.4171 - accuracy: 0.0994 - val_loss: 9.7622 - val_accuracy: 0.0951\n",
            "Epoch 30/50\n",
            "219/219 [==============================] - 4s 19ms/step - loss: 9.6921 - accuracy: 0.1019 - val_loss: 9.6818 - val_accuracy: 0.0911\n",
            "Epoch 31/50\n",
            "219/219 [==============================] - 5s 24ms/step - loss: 9.5341 - accuracy: 0.0991 - val_loss: 9.3733 - val_accuracy: 0.1091\n",
            "Epoch 32/50\n",
            "219/219 [==============================] - 5s 21ms/step - loss: 9.5354 - accuracy: 0.0976 - val_loss: 9.3850 - val_accuracy: 0.1058\n",
            "Epoch 33/50\n",
            "219/219 [==============================] - 4s 18ms/step - loss: 9.6038 - accuracy: 0.1023 - val_loss: 9.5490 - val_accuracy: 0.1018\n",
            "Epoch 34/50\n",
            "219/219 [==============================] - 4s 19ms/step - loss: 9.4207 - accuracy: 0.0974 - val_loss: 9.4693 - val_accuracy: 0.0975\n",
            "Epoch 35/50\n",
            "219/219 [==============================] - 6s 26ms/step - loss: 9.4964 - accuracy: 0.0994 - val_loss: 9.5221 - val_accuracy: 0.1041\n",
            "Epoch 36/50\n",
            "219/219 [==============================] - 4s 19ms/step - loss: 9.5219 - accuracy: 0.1060 - val_loss: 9.5564 - val_accuracy: 0.0985\n",
            "Epoch 37/50\n",
            "219/219 [==============================] - 4s 19ms/step - loss: 9.3631 - accuracy: 0.0976 - val_loss: 9.6914 - val_accuracy: 0.0995\n",
            "Epoch 38/50\n",
            "219/219 [==============================] - 5s 23ms/step - loss: 9.5599 - accuracy: 0.0961 - val_loss: 9.5225 - val_accuracy: 0.1031\n",
            "Epoch 39/50\n",
            "219/219 [==============================] - 5s 21ms/step - loss: 9.6046 - accuracy: 0.0941 - val_loss: 9.8184 - val_accuracy: 0.1065\n",
            "Epoch 40/50\n",
            "219/219 [==============================] - 4s 19ms/step - loss: 9.7005 - accuracy: 0.1000 - val_loss: 9.5542 - val_accuracy: 0.0951\n",
            "Epoch 41/50\n",
            "219/219 [==============================] - 4s 19ms/step - loss: 9.4061 - accuracy: 0.1013 - val_loss: 9.6283 - val_accuracy: 0.0925\n",
            "Epoch 42/50\n",
            "219/219 [==============================] - 6s 25ms/step - loss: 9.4444 - accuracy: 0.1020 - val_loss: 9.3783 - val_accuracy: 0.1051\n",
            "Epoch 43/50\n",
            "219/219 [==============================] - 4s 19ms/step - loss: 9.6295 - accuracy: 0.0990 - val_loss: 9.6319 - val_accuracy: 0.0941\n",
            "Epoch 44/50\n",
            "219/219 [==============================] - 4s 19ms/step - loss: 9.6196 - accuracy: 0.1024 - val_loss: 9.6977 - val_accuracy: 0.1011\n",
            "Epoch 45/50\n",
            "219/219 [==============================] - 6s 25ms/step - loss: 9.5564 - accuracy: 0.1034 - val_loss: 9.5013 - val_accuracy: 0.1041\n",
            "Epoch 46/50\n",
            "219/219 [==============================] - 4s 19ms/step - loss: 9.4497 - accuracy: 0.1027 - val_loss: 9.5400 - val_accuracy: 0.0978\n",
            "Epoch 47/50\n",
            "219/219 [==============================] - 4s 18ms/step - loss: 9.5085 - accuracy: 0.0983 - val_loss: 9.4333 - val_accuracy: 0.1048\n",
            "Epoch 48/50\n",
            "219/219 [==============================] - 5s 25ms/step - loss: 9.4949 - accuracy: 0.1020 - val_loss: 9.7694 - val_accuracy: 0.0935\n",
            "Epoch 49/50\n",
            "219/219 [==============================] - 5s 24ms/step - loss: 9.4532 - accuracy: 0.1041 - val_loss: 9.4694 - val_accuracy: 0.0918\n",
            "Epoch 50/50\n",
            "219/219 [==============================] - 4s 19ms/step - loss: 9.5212 - accuracy: 0.1054 - val_loss: 9.3733 - val_accuracy: 0.1051\n"
          ]
        }
      ]
    },
    {
      "cell_type": "code",
      "source": [
        "plot_history(history)"
      ],
      "metadata": {
        "colab": {
          "base_uri": "https://localhost:8080/",
          "height": 295
        },
        "id": "nwtVIfVC1ycW",
        "outputId": "7deec4dd-04f6-425d-dd03-2ad4e409e35c"
      },
      "execution_count": null,
      "outputs": [
        {
          "output_type": "display_data",
          "data": {
            "text/plain": [
              "<Figure size 432x288 with 2 Axes>"
            ],
            "image/png": "[encoded data removed]"
          },
          "metadata": {
            "needs_background": "light"
          }
        }
      ]
    },
    {
      "cell_type": "markdown",
      "source": [
        "Convolutional Neural Network"
      ],
      "metadata": {
        "id": "Mbsku1Kt-JVv"
      }
    },
    {
      "cell_type": "code",
      "source": [
        "# create train, validation and test split\n",
        "X_train, X_test, y_train, y_test = train_test_split(X, y, test_size=0.25)\n",
        "X_train, X_validation, y_train, y_validation = train_test_split(X_train, y_train, test_size=0.2)\n",
        "\n",
        "# add an axis to input sets\n",
        "X_train = X_train[..., np.newaxis]\n",
        "X_validation = X_validation[..., np.newaxis]\n",
        "X_test = X_test[..., np.newaxis]"
      ],
      "metadata": {
        "id": "5J_FxSPY-OSB"
      },
      "execution_count": null,
      "outputs": []
    },
    {
      "cell_type": "code",
      "source": [
        "X_train.shape"
      ],
      "metadata": {
        "colab": {
          "base_uri": "https://localhost:8080/"
        },
        "id": "TicGLcHdH0eE",
        "outputId": "59b342e6-189e-4a74-c75f-8c6a2f79c42a"
      },
      "execution_count": null,
      "outputs": [
        {
          "output_type": "execute_result",
          "data": {
            "text/plain": [
              "(5991, 130, 13, 1)"
            ]
          },
          "metadata": {},
          "execution_count": 27
        }
      ]
    },
    {
      "cell_type": "code",
      "source": [
        "input_shape = (X_train.shape[1], X_train.shape[2], 1)"
      ],
      "metadata": {
        "id": "Dx72pghiH3qt"
      },
      "execution_count": null,
      "outputs": []
    },
    {
      "cell_type": "code",
      "source": [
        "model_cnn = keras.Sequential()\n",
        "\n",
        "# 1st conv layer\n",
        "model_cnn.add(keras.layers.Conv2D(32, (3, 3), activation='relu', input_shape=input_shape))\n",
        "model_cnn.add(keras.layers.BatchNormalization())\n",
        "model_cnn.add(keras.layers.MaxPooling2D((3, 3), strides=(2, 2), padding='same'))\n",
        "\n",
        "# 2nd conv layer\n",
        "model_cnn.add(keras.layers.Conv2D(64, (3, 3), activation='relu'))\n",
        "model_cnn.add(keras.layers.BatchNormalization())\n",
        "model_cnn.add(keras.layers.MaxPooling2D((3, 3), strides=(2, 2), padding='same'))\n",
        "\n",
        "# 3rd conv layer\n",
        "model_cnn.add(keras.layers.Conv2D(128, (2, 2), activation='relu'))\n",
        "model_cnn.add(keras.layers.BatchNormalization())\n",
        "model_cnn.add(keras.layers.MaxPooling2D((2, 2), strides=(2, 2), padding='same'))\n",
        "\n",
        "# 4th conv layer\n",
        "model_cnn.add(keras.layers.Conv2D(256, (2, 2), activation='relu', padding='same'))\n",
        "model_cnn.add(keras.layers.BatchNormalization())\n",
        "model_cnn.add(keras.layers.MaxPooling2D((2, 2), strides=(2, 2), padding='same'))\n",
        "\n",
        "# flatten output and feed it into dense layers\n",
        "model_cnn.add(keras.layers.Flatten())\n",
        "model_cnn.add(keras.layers.Dense(256, activation='relu'))\n",
        "model_cnn.add(keras.layers.Dropout(0.3))\n",
        "model_cnn.add(keras.layers.Dense(128, activation='relu'))\n",
        "model_cnn.add(keras.layers.Dropout(0.3))\n",
        "\n",
        "# output layer\n",
        "model_cnn.add(keras.layers.Dense(10, activation='softmax'))"
      ],
      "metadata": {
        "id": "WQq5axiRX4CR"
      },
      "execution_count": null,
      "outputs": []
    },
    {
      "cell_type": "code",
      "source": [
        "# compile model\n",
        "optimiser = keras.optimizers.Adam(learning_rate=0.0001)\n",
        "model_cnn.compile(optimizer=optimiser,\n",
        "              loss='sparse_categorical_crossentropy',\n",
        "              metrics=['accuracy'])"
      ],
      "metadata": {
        "id": "N-VQ5s9tIe-Z"
      },
      "execution_count": null,
      "outputs": []
    },
    {
      "cell_type": "code",
      "source": [
        "model_cnn.summary()"
      ],
      "metadata": {
        "colab": {
          "base_uri": "https://localhost:8080/"
        },
        "id": "m4jKDq4bIiQ5",
        "outputId": "d12f4020-73da-43ab-9484-62cf4082aba2"
      },
      "execution_count": null,
      "outputs": [
        {
          "output_type": "stream",
          "name": "stdout",
          "text": [
            "Model: \"sequential_3\"\n",
            "_________________________________________________________________\n",
            " Layer (type)                Output Shape              Param #   \n",
            "=================================================================\n",
            " conv2d (Conv2D)             (None, 128, 11, 32)       320       \n",
            "                                                                 \n",
            " batch_normalization (BatchN  (None, 128, 11, 32)      128       \n",
            " ormalization)                                                   \n",
            "                                                                 \n",
            " max_pooling2d (MaxPooling2D  (None, 64, 6, 32)        0         \n",
            " )                                                               \n",
            "                                                                 \n",
            " conv2d_1 (Conv2D)           (None, 62, 4, 64)         18496     \n",
            "                                                                 \n",
            " batch_normalization_1 (Batc  (None, 62, 4, 64)        256       \n",
            " hNormalization)                                                 \n",
            "                                                                 \n",
            " max_pooling2d_1 (MaxPooling  (None, 31, 2, 64)        0         \n",
            " 2D)                                                             \n",
            "                                                                 \n",
            " conv2d_2 (Conv2D)           (None, 30, 1, 128)        32896     \n",
            "                                                                 \n",
            " batch_normalization_2 (Batc  (None, 30, 1, 128)       512       \n",
            " hNormalization)                                                 \n",
            "                                                                 \n",
            " max_pooling2d_2 (MaxPooling  (None, 15, 1, 128)       0         \n",
            " 2D)                                                             \n",
            "                                                                 \n",
            " conv2d_3 (Conv2D)           (None, 15, 1, 256)        131328    \n",
            "                                                                 \n",
            " batch_normalization_3 (Batc  (None, 15, 1, 256)       1024      \n",
            " hNormalization)                                                 \n",
            "                                                                 \n",
            " max_pooling2d_3 (MaxPooling  (None, 8, 1, 256)        0         \n",
            " 2D)                                                             \n",
            "                                                                 \n",
            " flatten_4 (Flatten)         (None, 2048)              0         \n",
            "                                                                 \n",
            " dense_16 (Dense)            (None, 256)               524544    \n",
            "                                                                 \n",
            " dropout_3 (Dropout)         (None, 256)               0         \n",
            "                                                                 \n",
            " dense_17 (Dense)            (None, 128)               32896     \n",
            "                                                                 \n",
            " dropout_4 (Dropout)         (None, 128)               0         \n",
            "                                                                 \n",
            " dense_18 (Dense)            (None, 10)                1290      \n",
            "                                                                 \n",
            "=================================================================\n",
            "Total params: 743,690\n",
            "Trainable params: 742,730\n",
            "Non-trainable params: 960\n",
            "_________________________________________________________________\n"
          ]
        }
      ]
    },
    {
      "cell_type": "code",
      "source": [
        "# train model\n",
        "history = model_cnn.fit(X_train, y_train, validation_data=(X_validation, y_validation), batch_size=32, epochs=50)"
      ],
      "metadata": {
        "colab": {
          "base_uri": "https://localhost:8080/"
        },
        "id": "HL6qJv-0Ilkh",
        "outputId": "173f19d3-ae64-4349-ae82-137837efd4ad"
      },
      "execution_count": null,
      "outputs": [
        {
          "output_type": "stream",
          "name": "stdout",
          "text": [
            "Epoch 1/50\n",
            "188/188 [==============================] - 6s 10ms/step - loss: 2.0446 - accuracy: 0.3248 - val_loss: 1.7854 - val_accuracy: 0.3718\n",
            "Epoch 2/50\n",
            "188/188 [==============================] - 1s 8ms/step - loss: 1.5158 - accuracy: 0.4545 - val_loss: 1.3017 - val_accuracy: 0.5307\n",
            "Epoch 3/50\n",
            "188/188 [==============================] - 2s 10ms/step - loss: 1.3051 - accuracy: 0.5345 - val_loss: 1.1172 - val_accuracy: 0.6035\n",
            "Epoch 4/50\n",
            "188/188 [==============================] - 2s 11ms/step - loss: 1.1771 - accuracy: 0.5772 - val_loss: 1.0242 - val_accuracy: 0.6368\n",
            "Epoch 5/50\n",
            "188/188 [==============================] - 1s 8ms/step - loss: 1.0513 - accuracy: 0.6308 - val_loss: 0.9621 - val_accuracy: 0.6642\n",
            "Epoch 6/50\n",
            "188/188 [==============================] - 2s 9ms/step - loss: 0.9457 - accuracy: 0.6693 - val_loss: 0.8993 - val_accuracy: 0.6903\n",
            "Epoch 7/50\n",
            "188/188 [==============================] - 1s 7ms/step - loss: 0.8612 - accuracy: 0.6995 - val_loss: 0.9074 - val_accuracy: 0.6822\n",
            "Epoch 8/50\n",
            "188/188 [==============================] - 1s 8ms/step - loss: 0.7932 - accuracy: 0.7189 - val_loss: 0.8255 - val_accuracy: 0.7183\n",
            "Epoch 9/50\n",
            "188/188 [==============================] - 1s 8ms/step - loss: 0.7083 - accuracy: 0.7498 - val_loss: 0.8045 - val_accuracy: 0.7250\n",
            "Epoch 10/50\n",
            "188/188 [==============================] - 2s 8ms/step - loss: 0.6302 - accuracy: 0.7798 - val_loss: 0.8155 - val_accuracy: 0.7263\n",
            "Epoch 11/50\n",
            "188/188 [==============================] - 2s 9ms/step - loss: 0.5771 - accuracy: 0.8004 - val_loss: 0.7834 - val_accuracy: 0.7390\n",
            "Epoch 12/50\n",
            "188/188 [==============================] - 2s 11ms/step - loss: 0.5330 - accuracy: 0.8172 - val_loss: 0.7683 - val_accuracy: 0.7397\n",
            "Epoch 13/50\n",
            "188/188 [==============================] - 2s 9ms/step - loss: 0.4744 - accuracy: 0.8418 - val_loss: 0.7806 - val_accuracy: 0.7437\n",
            "Epoch 14/50\n",
            "188/188 [==============================] - 2s 8ms/step - loss: 0.4305 - accuracy: 0.8473 - val_loss: 0.7828 - val_accuracy: 0.7363\n",
            "Epoch 15/50\n",
            "188/188 [==============================] - 1s 7ms/step - loss: 0.3777 - accuracy: 0.8755 - val_loss: 0.7602 - val_accuracy: 0.7543\n",
            "Epoch 16/50\n",
            "188/188 [==============================] - 1s 7ms/step - loss: 0.3704 - accuracy: 0.8723 - val_loss: 0.7546 - val_accuracy: 0.7530\n",
            "Epoch 17/50\n",
            "188/188 [==============================] - 1s 8ms/step - loss: 0.3258 - accuracy: 0.8878 - val_loss: 0.7979 - val_accuracy: 0.7463\n",
            "Epoch 18/50\n",
            "188/188 [==============================] - 1s 7ms/step - loss: 0.2910 - accuracy: 0.9022 - val_loss: 0.7510 - val_accuracy: 0.7623\n",
            "Epoch 19/50\n",
            "188/188 [==============================] - 2s 8ms/step - loss: 0.2726 - accuracy: 0.9085 - val_loss: 0.8169 - val_accuracy: 0.7537\n",
            "Epoch 20/50\n",
            "188/188 [==============================] - 2s 10ms/step - loss: 0.2345 - accuracy: 0.9204 - val_loss: 0.8675 - val_accuracy: 0.7443\n",
            "Epoch 21/50\n",
            "188/188 [==============================] - 2s 12ms/step - loss: 0.2194 - accuracy: 0.9292 - val_loss: 0.7971 - val_accuracy: 0.7637\n",
            "Epoch 22/50\n",
            "188/188 [==============================] - 1s 8ms/step - loss: 0.1926 - accuracy: 0.9367 - val_loss: 0.8335 - val_accuracy: 0.7623\n",
            "Epoch 23/50\n",
            "188/188 [==============================] - 2s 9ms/step - loss: 0.1745 - accuracy: 0.9414 - val_loss: 0.8057 - val_accuracy: 0.7630\n",
            "Epoch 24/50\n",
            "188/188 [==============================] - 2s 8ms/step - loss: 0.1757 - accuracy: 0.9402 - val_loss: 0.8640 - val_accuracy: 0.7503\n",
            "Epoch 25/50\n",
            "188/188 [==============================] - 1s 7ms/step - loss: 0.1580 - accuracy: 0.9509 - val_loss: 0.9710 - val_accuracy: 0.7423\n",
            "Epoch 26/50\n",
            "188/188 [==============================] - 1s 7ms/step - loss: 0.1322 - accuracy: 0.9574 - val_loss: 0.8762 - val_accuracy: 0.7517\n",
            "Epoch 27/50\n",
            "188/188 [==============================] - 2s 10ms/step - loss: 0.1405 - accuracy: 0.9504 - val_loss: 0.7987 - val_accuracy: 0.7810\n",
            "Epoch 28/50\n",
            "188/188 [==============================] - 2s 11ms/step - loss: 0.1163 - accuracy: 0.9618 - val_loss: 0.8331 - val_accuracy: 0.7717\n",
            "Epoch 29/50\n",
            "188/188 [==============================] - 2s 13ms/step - loss: 0.1239 - accuracy: 0.9579 - val_loss: 0.8863 - val_accuracy: 0.7570\n",
            "Epoch 30/50\n",
            "188/188 [==============================] - 2s 10ms/step - loss: 0.0980 - accuracy: 0.9686 - val_loss: 0.9442 - val_accuracy: 0.7570\n",
            "Epoch 31/50\n",
            "188/188 [==============================] - 1s 8ms/step - loss: 0.0944 - accuracy: 0.9706 - val_loss: 0.9161 - val_accuracy: 0.7543\n",
            "Epoch 32/50\n",
            "188/188 [==============================] - 1s 8ms/step - loss: 0.1059 - accuracy: 0.9648 - val_loss: 1.0510 - val_accuracy: 0.7323\n",
            "Epoch 33/50\n",
            "188/188 [==============================] - 1s 7ms/step - loss: 0.0965 - accuracy: 0.9698 - val_loss: 0.9423 - val_accuracy: 0.7617\n",
            "Epoch 34/50\n",
            "188/188 [==============================] - 1s 8ms/step - loss: 0.0862 - accuracy: 0.9728 - val_loss: 0.9477 - val_accuracy: 0.7617\n",
            "Epoch 35/50\n",
            "188/188 [==============================] - 1s 8ms/step - loss: 0.0747 - accuracy: 0.9795 - val_loss: 0.9336 - val_accuracy: 0.7657\n",
            "Epoch 36/50\n",
            "188/188 [==============================] - 1s 7ms/step - loss: 0.0824 - accuracy: 0.9726 - val_loss: 0.9299 - val_accuracy: 0.7704\n",
            "Epoch 37/50\n",
            "188/188 [==============================] - 2s 9ms/step - loss: 0.0783 - accuracy: 0.9753 - val_loss: 0.9679 - val_accuracy: 0.7517\n",
            "Epoch 38/50\n",
            "188/188 [==============================] - 2s 11ms/step - loss: 0.0726 - accuracy: 0.9773 - val_loss: 0.9191 - val_accuracy: 0.7583\n",
            "Epoch 39/50\n",
            "188/188 [==============================] - 2s 9ms/step - loss: 0.0713 - accuracy: 0.9761 - val_loss: 1.0967 - val_accuracy: 0.7383\n",
            "Epoch 40/50\n",
            "188/188 [==============================] - 1s 8ms/step - loss: 0.0848 - accuracy: 0.9705 - val_loss: 0.9815 - val_accuracy: 0.7563\n",
            "Epoch 41/50\n",
            "188/188 [==============================] - 1s 8ms/step - loss: 0.0725 - accuracy: 0.9775 - val_loss: 0.9749 - val_accuracy: 0.7577\n",
            "Epoch 42/50\n",
            "188/188 [==============================] - 1s 8ms/step - loss: 0.0643 - accuracy: 0.9786 - val_loss: 0.9367 - val_accuracy: 0.7657\n",
            "Epoch 43/50\n",
            "188/188 [==============================] - 1s 8ms/step - loss: 0.0631 - accuracy: 0.9790 - val_loss: 1.0034 - val_accuracy: 0.7623\n",
            "Epoch 44/50\n",
            "188/188 [==============================] - 2s 8ms/step - loss: 0.0443 - accuracy: 0.9873 - val_loss: 0.9790 - val_accuracy: 0.7697\n",
            "Epoch 45/50\n",
            "188/188 [==============================] - 1s 7ms/step - loss: 0.0467 - accuracy: 0.9861 - val_loss: 0.9761 - val_accuracy: 0.7697\n",
            "Epoch 46/50\n",
            "188/188 [==============================] - 2s 11ms/step - loss: 0.0526 - accuracy: 0.9808 - val_loss: 0.9766 - val_accuracy: 0.7657\n",
            "Epoch 47/50\n",
            "188/188 [==============================] - 2s 10ms/step - loss: 0.0588 - accuracy: 0.9813 - val_loss: 0.9980 - val_accuracy: 0.7710\n",
            "Epoch 48/50\n",
            "188/188 [==============================] - 1s 7ms/step - loss: 0.0499 - accuracy: 0.9843 - val_loss: 0.9854 - val_accuracy: 0.7757\n",
            "Epoch 49/50\n",
            "188/188 [==============================] - 1s 7ms/step - loss: 0.0649 - accuracy: 0.9788 - val_loss: 1.0370 - val_accuracy: 0.7637\n",
            "Epoch 50/50\n",
            "188/188 [==============================] - 1s 7ms/step - loss: 0.0575 - accuracy: 0.9826 - val_loss: 1.0471 - val_accuracy: 0.7583\n"
          ]
        }
      ]
    },
    {
      "cell_type": "code",
      "source": [
        "# plot accuracy and error as a function of the epochs\n",
        "plot_history(history)"
      ],
      "metadata": {
        "colab": {
          "base_uri": "https://localhost:8080/",
          "height": 295
        },
        "id": "NBq8YFsSIwiT",
        "outputId": "98a3f2b8-7d0f-4747-8596-dad7f02c85a9"
      },
      "execution_count": null,
      "outputs": [
        {
          "output_type": "display_data",
          "data": {
            "text/plain": [
              "<Figure size 432x288 with 2 Axes>"
            ],
            "image/png": "[encoded data removed]"
          },
          "metadata": {
            "needs_background": "light"
          }
        }
      ]
    },
    {
      "cell_type": "code",
      "source": [
        "# evaluate model on Test Set\n",
        "test_loss, test_acc = model_cnn.evaluate(X_test, y_test, verbose=2)\n",
        "print('\\nTest accuracy:', test_acc)"
      ],
      "metadata": {
        "colab": {
          "base_uri": "https://localhost:8080/"
        },
        "id": "A1zXIN8XJOIv",
        "outputId": "bda0d295-f944-4639-c147-b06da0c12eec"
      },
      "execution_count": null,
      "outputs": [
        {
          "output_type": "stream",
          "name": "stdout",
          "text": [
            "79/79 - 0s - loss: 1.0068 - accuracy: 0.7733 - 352ms/epoch - 4ms/step\n",
            "\n",
            "Test accuracy: 0.7733280062675476\n"
          ]
        }
      ]
    },
    {
      "cell_type": "code",
      "source": [
        "model_cnn.save(\"Music_Classifier.h5\")"
      ],
      "metadata": {
        "id": "JeLtQ0QbJQZW"
      },
      "execution_count": null,
      "outputs": []
    },
    {
      "cell_type": "code",
      "source": [
        "# It can be used to reconstruct the model identically.\n",
        "reconstructed_model = keras.models.load_model(\"Music_Genre_10_CNN.h5\")"
      ],
      "metadata": {
        "id": "6fz6jVpoJjxg"
      },
      "execution_count": null,
      "outputs": []
    },
    {
      "cell_type": "markdown",
      "source": [
        "Prediction time"
      ],
      "metadata": {
        "id": "7j0dW2FhJ2zI"
      }
    },
    {
      "cell_type": "code",
      "source": [
        "# pick a sample to predict from the test set\n",
        "X_to_predict = X_test[100]\n",
        "y_to_predict = y_test[100]"
      ],
      "metadata": {
        "id": "V7aLu9SpJ4AL"
      },
      "execution_count": null,
      "outputs": []
    },
    {
      "cell_type": "code",
      "source": [
        "print(\"Real Genre:\", y_to_predict)"
      ],
      "metadata": {
        "colab": {
          "base_uri": "https://localhost:8080/"
        },
        "id": "-7rVKfaeJ7ZT",
        "outputId": "36324c06-62c4-46c7-e10f-2bd2c801e504"
      },
      "execution_count": null,
      "outputs": [
        {
          "output_type": "stream",
          "name": "stdout",
          "text": [
            "Real Genre: 1\n"
          ]
        }
      ]
    },
    {
      "cell_type": "code",
      "source": [
        "# add a dimension to input data for sample - model.predict() expects a 4d array in this case\n",
        "X_to_predict = X_to_predict[np.newaxis, ...] # array shape (1, 130, 13, 1)"
      ],
      "metadata": {
        "id": "ZuIZkrBZKCSM"
      },
      "execution_count": null,
      "outputs": []
    },
    {
      "cell_type": "code",
      "source": [
        "# perform prediction\n",
        "prediction = model_cnn.predict(X_to_predict)"
      ],
      "metadata": {
        "colab": {
          "base_uri": "https://localhost:8080/"
        },
        "id": "hiMNOTpWKQ8t",
        "outputId": "abf785bb-3241-4e93-bdef-e5ffe5b54d10"
      },
      "execution_count": null,
      "outputs": [
        {
          "output_type": "stream",
          "name": "stdout",
          "text": [
            "1/1 [==============================] - 0s 192ms/step\n"
          ]
        }
      ]
    },
    {
      "cell_type": "code",
      "source": [
        "# get index with max value\n",
        "predicted_index = np.argmax(prediction, axis=1)\n",
        "\n",
        "print(\"Predicted Genre:\", int(predicted_index))"
      ],
      "metadata": {
        "colab": {
          "base_uri": "https://localhost:8080/"
        },
        "id": "Uf5F5Ym9KT_1",
        "outputId": "1a5fee3e-5f48-4996-8270-7614b20b1152"
      },
      "execution_count": null,
      "outputs": [
        {
          "output_type": "stream",
          "name": "stdout",
          "text": [
            "Predicted Genre: 1\n"
          ]
        }
      ]
    },
    {
      "cell_type": "code",
      "source": [
        "\n",
        "# pick a sample to predict from the test set\n",
        "X_to_predict = X_test[50]\n",
        "y_to_predict = y_test[50]\n",
        "\n",
        "print(\"Real Genre:\", y_to_predict)\n",
        "\n",
        "X_to_predict = X_to_predict[np.newaxis, ...]\n",
        "\n",
        "prediction = model_cnn.predict(X_to_predict)\n",
        "\n",
        "# get index with max value\n",
        "predicted_index = np.argmax(prediction, axis=1)\n",
        "\n",
        "print(\"Predicted Genre:\", int(predicted_index))"
      ],
      "metadata": {
        "colab": {
          "base_uri": "https://localhost:8080/"
        },
        "id": "vhAHYNp5KWYN",
        "outputId": "702a9421-4200-41f7-d5d3-6faaa04edf5c"
      },
      "execution_count": null,
      "outputs": [
        {
          "output_type": "stream",
          "name": "stdout",
          "text": [
            "Real Genre: 8\n",
            "1/1 [==============================] - 0s 20ms/step\n",
            "Predicted Genre: 8\n"
          ]
        }
      ]
    },
    {
      "cell_type": "code",
      "source": [
        "for n in range(10):\n",
        "\n",
        "  i = random.randint(0,len(X_test))\n",
        "  # pick a sample to predict from the test set\n",
        "  X_to_predict = X_test[i]\n",
        "  y_to_predict = y_test[i]\n",
        "\n",
        "  print(\"\\nReal Genre:\", y_to_predict)\n",
        "\n",
        "  X_to_predict = X_to_predict[np.newaxis, ...]\n",
        "\n",
        "  prediction = model_cnn.predict(X_to_predict)\n",
        "\n",
        "  # get index with max value\n",
        "  predicted_index = np.argmax(prediction, axis=1)\n",
        "\n",
        "  print(\"Predicted Genre:\", int(predicted_index))"
      ],
      "metadata": {
        "colab": {
          "base_uri": "https://localhost:8080/"
        },
        "id": "HKP8-YluKaaO",
        "outputId": "79bba6f0-7364-4eaf-8068-b188c6ffd273"
      },
      "execution_count": null,
      "outputs": [
        {
          "output_type": "stream",
          "name": "stdout",
          "text": [
            "\n",
            "Real Genre: 3\n",
            "1/1 [==============================] - 0s 19ms/step\n",
            "Predicted Genre: 3\n",
            "\n",
            "Real Genre: 8\n",
            "1/1 [==============================] - 0s 21ms/step\n",
            "Predicted Genre: 6\n",
            "\n",
            "Real Genre: 7\n",
            "1/1 [==============================] - 0s 21ms/step\n",
            "Predicted Genre: 7\n",
            "\n",
            "Real Genre: 7\n",
            "1/1 [==============================] - 0s 22ms/step\n",
            "Predicted Genre: 2\n",
            "\n",
            "Real Genre: 8\n",
            "1/1 [==============================] - 0s 23ms/step\n",
            "Predicted Genre: 3\n",
            "\n",
            "Real Genre: 7\n",
            "1/1 [==============================] - 0s 21ms/step\n",
            "Predicted Genre: 7\n",
            "\n",
            "Real Genre: 2\n",
            "1/1 [==============================] - 0s 20ms/step\n",
            "Predicted Genre: 2\n",
            "\n",
            "Real Genre: 9\n",
            "1/1 [==============================] - 0s 19ms/step\n",
            "Predicted Genre: 9\n",
            "\n",
            "Real Genre: 3\n",
            "1/1 [==============================] - 0s 24ms/step\n",
            "Predicted Genre: 3\n",
            "\n",
            "Real Genre: 3\n",
            "1/1 [==============================] - 0s 20ms/step\n",
            "Predicted Genre: 3\n"
          ]
        }
      ]
    },
    {
      "cell_type": "markdown",
      "source": [
        "Song Prediction Time!!"
      ],
      "metadata": {
        "id": "zSzwdCUlnVol"
      }
    },
    {
      "cell_type": "code",
      "source": [
        "# It can be used to reconstruct the model identically.\n",
        "reconstructed_model = keras.models.load_model(\"/content/Music_Classifier.h5\")"
      ],
      "metadata": {
        "id": "W7Co4Srho8fg"
      },
      "execution_count": null,
      "outputs": []
    },
    {
      "cell_type": "code",
      "source": [
        "# Audio files pre-processing\n",
        "def process_input(audio_file, track_duration):\n",
        "\n",
        "  SAMPLE_RATE = 22050\n",
        "  NUM_MFCC = 13\n",
        "  N_FTT=2048\n",
        "  HOP_LENGTH=512\n",
        "  TRACK_DURATION = track_duration # measured in seconds\n",
        "  SAMPLES_PER_TRACK = SAMPLE_RATE * TRACK_DURATION\n",
        "  NUM_SEGMENTS = 10\n",
        "\n",
        "  samples_per_segment = int(SAMPLES_PER_TRACK / NUM_SEGMENTS)\n",
        "  num_mfcc_vectors_per_segment = math.ceil(samples_per_segment / HOP_LENGTH)\n",
        "\n",
        "  signal, sample_rate = librosa.load(audio_file, sr=SAMPLE_RATE)\n",
        "  \n",
        "  for d in range(10):\n",
        "\n",
        "    # calculate start and finish sample for current segment\n",
        "    start = samples_per_segment * d\n",
        "    finish = start + samples_per_segment\n",
        "\n",
        "    # extract mfcc\n",
        "    mfcc = librosa.feature.mfcc(signal[start:finish], sample_rate, n_mfcc=NUM_MFCC, n_fft=N_FTT, hop_length=HOP_LENGTH)\n",
        "    mfcc = mfcc.T\n",
        "\n",
        "    return mfcc"
      ],
      "metadata": {
        "id": "5D0ZySDcnYgl"
      },
      "execution_count": null,
      "outputs": []
    },
    {
      "cell_type": "code",
      "source": [
        "genre_lookup={0:\"metal\",1:\"classical\",2:\"jazz\",3:\"hiphop\",4:\"pop\",5:\"blues\",6:\"rock\",7:\"country\",8:\"disco\",9:\"reggae\"}"
      ],
      "metadata": {
        "id": "IKm8fQtAnaLc"
      },
      "execution_count": null,
      "outputs": []
    },
    {
      "cell_type": "code",
      "source": [
        "new_input=process_input(\"/content/John Lopker _ Popular USA Majority - American Dream RIP.mp3\",30)"
      ],
      "metadata": {
        "id": "2SsQUJBXn20O"
      },
      "execution_count": null,
      "outputs": []
    },
    {
      "cell_type": "code",
      "source": [
        "X_to_predict = new_input[np.newaxis, ..., np.newaxis]\n",
        "X_to_predict.shape"
      ],
      "metadata": {
        "colab": {
          "base_uri": "https://localhost:8080/"
        },
        "id": "OHSkVK1ioLDq",
        "outputId": "319cca9e-cde4-40e9-9936-cb1949eed961"
      },
      "execution_count": null,
      "outputs": [
        {
          "output_type": "execute_result",
          "data": {
            "text/plain": [
              "(1, 130, 13, 1)"
            ]
          },
          "metadata": {},
          "execution_count": 14
        }
      ]
    },
    {
      "cell_type": "code",
      "source": [
        "prediction = reconstructed_model.predict(X_to_predict)\n",
        "\n",
        "# get index with max value\n",
        "predicted_index = np.argmax(prediction, axis=1)\n",
        "\n",
        "print(\"Predicted Genre:\", genre_lookup[int(predicted_index)])"
      ],
      "metadata": {
        "colab": {
          "base_uri": "https://localhost:8080/"
        },
        "id": "SEoz5czntdfy",
        "outputId": "2656e483-d721-44b3-9fb2-bff6966d9b21"
      },
      "execution_count": null,
      "outputs": [
        {
          "output_type": "stream",
          "name": "stdout",
          "text": [
            "1/1 [==============================] - 0s 26ms/step\n",
            "Predicted Genre: country\n"
          ]
        }
      ]
    }
  ]
}